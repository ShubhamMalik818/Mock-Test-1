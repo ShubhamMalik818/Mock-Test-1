{
 "cells": [
  {
   "cell_type": "code",
   "execution_count": null,
   "id": "11588df7-079e-4455-9afe-26c67473cce0",
   "metadata": {},
   "outputs": [],
   "source": [
    "1. Move Zeroes\n",
    "Given an integer array nums, move all 0s to the end of it while maintaining the relative order of the non-zero elements.\n",
    "\n",
    "Note that you must do this in-place without making a copy of the array.\n",
    "\n",
    "Example 1:\n",
    "Input: nums = [0,1,0,3,12]\n",
    "Output: [1,3,12,0,0]\n",
    "\n",
    "Example 2:\n",
    "Input: nums = [0]\n",
    "Output: [0]\n",
    "\n",
    "Constraints:\n",
    "a. 1 <= nums.length <= 10^4\n",
    "b. -2^31 <= nums[i] <= 2^31 - 1"
   ]
  },
  {
   "cell_type": "code",
   "execution_count": 1,
   "id": "d90bb341-4f49-4f58-a690-8559d22a4867",
   "metadata": {},
   "outputs": [],
   "source": [
    "def moveZeroes(nums):\n",
    "    n = len(nums)\n",
    "    left = 0  # left pointer to track non-zero elements\n",
    "\n",
    "    # Iterate through the array\n",
    "    for i in range(n):\n",
    "        # If the current element is non-zero\n",
    "        if nums[i] != 0:\n",
    "            # For Swaping the non-zero element with the element at the left pointer\n",
    "            nums[i], nums[left] = nums[left], nums[i]\n",
    "            left += 1  # Increment the left pointer\n",
    "\n",
    "    # After the loop, all non-zero elements are at the beginning of the array\n",
    "    # Left pointer now points to the first zero\n",
    "    # Set all elements from the left pointer to the end of the array as zero\n",
    "    while left < n:\n",
    "        nums[left] = 0\n",
    "        left += 1\n",
    "\n",
    "    return nums"
   ]
  },
  {
   "cell_type": "code",
   "execution_count": 2,
   "id": "2d77e513-d75e-4f70-9bd2-38f88be38614",
   "metadata": {},
   "outputs": [
    {
     "name": "stdout",
     "output_type": "stream",
     "text": [
      "[1, 3, 12, 0, 0]\n",
      "[0]\n"
     ]
    }
   ],
   "source": [
    "nums = [0, 1, 0, 3, 12]\n",
    "print(moveZeroes(nums))  # Output: [1, 3, 12, 0, 0]\n",
    "\n",
    "nums = [0]\n",
    "print(moveZeroes(nums))  # Output: [0]"
   ]
  }
 ],
 "metadata": {
  "kernelspec": {
   "display_name": "Python 3 (ipykernel)",
   "language": "python",
   "name": "python3"
  },
  "language_info": {
   "codemirror_mode": {
    "name": "ipython",
    "version": 3
   },
   "file_extension": ".py",
   "mimetype": "text/x-python",
   "name": "python",
   "nbconvert_exporter": "python",
   "pygments_lexer": "ipython3",
   "version": "3.10.8"
  }
 },
 "nbformat": 4,
 "nbformat_minor": 5
}
